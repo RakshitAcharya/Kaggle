{
 "cells": [
  {
   "cell_type": "markdown",
   "metadata": {
    "_cell_guid": "b1076dfc-b9ad-4769-8c92-a6c4dae69d19",
    "_uuid": "8f2839f25d086af736a60e9eeb907d3b93b6e0e5"
   },
   "source": [
    "# Importing data\n"
   ]
  },
  {
   "cell_type": "code",
   "execution_count": 1,
   "metadata": {},
   "outputs": [
    {
     "data": {
      "text/html": [
       "<div>\n",
       "<style scoped>\n",
       "    .dataframe tbody tr th:only-of-type {\n",
       "        vertical-align: middle;\n",
       "    }\n",
       "\n",
       "    .dataframe tbody tr th {\n",
       "        vertical-align: top;\n",
       "    }\n",
       "\n",
       "    .dataframe thead th {\n",
       "        text-align: right;\n",
       "    }\n",
       "</style>\n",
       "<table border=\"1\" class=\"dataframe\">\n",
       "  <thead>\n",
       "    <tr style=\"text-align: right;\">\n",
       "      <th></th>\n",
       "      <th>label</th>\n",
       "      <th>pixel0</th>\n",
       "      <th>pixel1</th>\n",
       "      <th>pixel2</th>\n",
       "      <th>pixel3</th>\n",
       "      <th>pixel4</th>\n",
       "      <th>pixel5</th>\n",
       "      <th>pixel6</th>\n",
       "      <th>pixel7</th>\n",
       "      <th>pixel8</th>\n",
       "      <th>...</th>\n",
       "      <th>pixel774</th>\n",
       "      <th>pixel775</th>\n",
       "      <th>pixel776</th>\n",
       "      <th>pixel777</th>\n",
       "      <th>pixel778</th>\n",
       "      <th>pixel779</th>\n",
       "      <th>pixel780</th>\n",
       "      <th>pixel781</th>\n",
       "      <th>pixel782</th>\n",
       "      <th>pixel783</th>\n",
       "    </tr>\n",
       "  </thead>\n",
       "  <tbody>\n",
       "    <tr>\n",
       "      <th>0</th>\n",
       "      <td>1</td>\n",
       "      <td>0</td>\n",
       "      <td>0</td>\n",
       "      <td>0</td>\n",
       "      <td>0</td>\n",
       "      <td>0</td>\n",
       "      <td>0</td>\n",
       "      <td>0</td>\n",
       "      <td>0</td>\n",
       "      <td>0</td>\n",
       "      <td>...</td>\n",
       "      <td>0</td>\n",
       "      <td>0</td>\n",
       "      <td>0</td>\n",
       "      <td>0</td>\n",
       "      <td>0</td>\n",
       "      <td>0</td>\n",
       "      <td>0</td>\n",
       "      <td>0</td>\n",
       "      <td>0</td>\n",
       "      <td>0</td>\n",
       "    </tr>\n",
       "    <tr>\n",
       "      <th>1</th>\n",
       "      <td>0</td>\n",
       "      <td>0</td>\n",
       "      <td>0</td>\n",
       "      <td>0</td>\n",
       "      <td>0</td>\n",
       "      <td>0</td>\n",
       "      <td>0</td>\n",
       "      <td>0</td>\n",
       "      <td>0</td>\n",
       "      <td>0</td>\n",
       "      <td>...</td>\n",
       "      <td>0</td>\n",
       "      <td>0</td>\n",
       "      <td>0</td>\n",
       "      <td>0</td>\n",
       "      <td>0</td>\n",
       "      <td>0</td>\n",
       "      <td>0</td>\n",
       "      <td>0</td>\n",
       "      <td>0</td>\n",
       "      <td>0</td>\n",
       "    </tr>\n",
       "    <tr>\n",
       "      <th>2</th>\n",
       "      <td>1</td>\n",
       "      <td>0</td>\n",
       "      <td>0</td>\n",
       "      <td>0</td>\n",
       "      <td>0</td>\n",
       "      <td>0</td>\n",
       "      <td>0</td>\n",
       "      <td>0</td>\n",
       "      <td>0</td>\n",
       "      <td>0</td>\n",
       "      <td>...</td>\n",
       "      <td>0</td>\n",
       "      <td>0</td>\n",
       "      <td>0</td>\n",
       "      <td>0</td>\n",
       "      <td>0</td>\n",
       "      <td>0</td>\n",
       "      <td>0</td>\n",
       "      <td>0</td>\n",
       "      <td>0</td>\n",
       "      <td>0</td>\n",
       "    </tr>\n",
       "    <tr>\n",
       "      <th>3</th>\n",
       "      <td>4</td>\n",
       "      <td>0</td>\n",
       "      <td>0</td>\n",
       "      <td>0</td>\n",
       "      <td>0</td>\n",
       "      <td>0</td>\n",
       "      <td>0</td>\n",
       "      <td>0</td>\n",
       "      <td>0</td>\n",
       "      <td>0</td>\n",
       "      <td>...</td>\n",
       "      <td>0</td>\n",
       "      <td>0</td>\n",
       "      <td>0</td>\n",
       "      <td>0</td>\n",
       "      <td>0</td>\n",
       "      <td>0</td>\n",
       "      <td>0</td>\n",
       "      <td>0</td>\n",
       "      <td>0</td>\n",
       "      <td>0</td>\n",
       "    </tr>\n",
       "    <tr>\n",
       "      <th>4</th>\n",
       "      <td>0</td>\n",
       "      <td>0</td>\n",
       "      <td>0</td>\n",
       "      <td>0</td>\n",
       "      <td>0</td>\n",
       "      <td>0</td>\n",
       "      <td>0</td>\n",
       "      <td>0</td>\n",
       "      <td>0</td>\n",
       "      <td>0</td>\n",
       "      <td>...</td>\n",
       "      <td>0</td>\n",
       "      <td>0</td>\n",
       "      <td>0</td>\n",
       "      <td>0</td>\n",
       "      <td>0</td>\n",
       "      <td>0</td>\n",
       "      <td>0</td>\n",
       "      <td>0</td>\n",
       "      <td>0</td>\n",
       "      <td>0</td>\n",
       "    </tr>\n",
       "  </tbody>\n",
       "</table>\n",
       "<p>5 rows × 785 columns</p>\n",
       "</div>"
      ],
      "text/plain": [
       "   label  pixel0  pixel1  pixel2  pixel3  pixel4  pixel5  pixel6  pixel7  \\\n",
       "0      1       0       0       0       0       0       0       0       0   \n",
       "1      0       0       0       0       0       0       0       0       0   \n",
       "2      1       0       0       0       0       0       0       0       0   \n",
       "3      4       0       0       0       0       0       0       0       0   \n",
       "4      0       0       0       0       0       0       0       0       0   \n",
       "\n",
       "   pixel8  ...  pixel774  pixel775  pixel776  pixel777  pixel778  pixel779  \\\n",
       "0       0  ...         0         0         0         0         0         0   \n",
       "1       0  ...         0         0         0         0         0         0   \n",
       "2       0  ...         0         0         0         0         0         0   \n",
       "3       0  ...         0         0         0         0         0         0   \n",
       "4       0  ...         0         0         0         0         0         0   \n",
       "\n",
       "   pixel780  pixel781  pixel782  pixel783  \n",
       "0         0         0         0         0  \n",
       "1         0         0         0         0  \n",
       "2         0         0         0         0  \n",
       "3         0         0         0         0  \n",
       "4         0         0         0         0  \n",
       "\n",
       "[5 rows x 785 columns]"
      ]
     },
     "execution_count": 1,
     "metadata": {},
     "output_type": "execute_result"
    }
   ],
   "source": [
    "import pandas as pd\n",
    "import numpy as np\n",
    "\n",
    "df_train=pd.read_csv(\"train.csv\")\n",
    "df_train.head()"
   ]
  },
  {
   "cell_type": "code",
   "execution_count": 2,
   "metadata": {},
   "outputs": [],
   "source": [
    "df_test=pd.read_csv(\"test.csv\")"
   ]
  },
  {
   "cell_type": "code",
   "execution_count": 3,
   "metadata": {},
   "outputs": [],
   "source": [
    "X_train= df_train.drop([\"label\"],axis=1)\n",
    "y_train= df_train[\"label\"]"
   ]
  },
  {
   "cell_type": "code",
   "execution_count": 4,
   "metadata": {},
   "outputs": [
    {
     "data": {
      "text/plain": [
       "1    4684\n",
       "7    4401\n",
       "3    4351\n",
       "9    4188\n",
       "2    4177\n",
       "6    4137\n",
       "0    4132\n",
       "4    4072\n",
       "8    4063\n",
       "5    3795\n",
       "Name: label, dtype: int64"
      ]
     },
     "execution_count": 4,
     "metadata": {},
     "output_type": "execute_result"
    }
   ],
   "source": [
    "df_train.label.value_counts()"
   ]
  },
  {
   "cell_type": "markdown",
   "metadata": {},
   "source": [
    "## PREPROCESSING"
   ]
  },
  {
   "cell_type": "code",
   "execution_count": 5,
   "metadata": {},
   "outputs": [
    {
     "name": "stdout",
     "output_type": "stream",
     "text": [
      "x_train shape:  (42000, 784)\n",
      "test shape:  (28000, 784)\n"
     ]
    }
   ],
   "source": [
    "X_train = X_train / 255.0\n",
    "df_test = df_test / 255.0\n",
    "print(\"x_train shape: \",X_train.shape)\n",
    "print(\"test shape: \",df_test.shape)"
   ]
  },
  {
   "cell_type": "code",
   "execution_count": 6,
   "metadata": {},
   "outputs": [],
   "source": [
    "X_train = X_train.values.reshape(-1,28,28,1)\n",
    "df_test = df_test.values.reshape(-1,28,28,1)"
   ]
  },
  {
   "cell_type": "code",
   "execution_count": 7,
   "metadata": {},
   "outputs": [],
   "source": [
    "from keras.utils.np_utils import to_categorical \n",
    "Y_train = to_categorical(y_train, num_classes = 10)"
   ]
  },
  {
   "cell_type": "markdown",
   "metadata": {},
   "source": [
    "# MODEL BUILDING"
   ]
  },
  {
   "cell_type": "code",
   "execution_count": 8,
   "metadata": {},
   "outputs": [],
   "source": [
    "from sklearn.model_selection import train_test_split\n",
    "X_train, X_test, Y_train, Y_test = train_test_split(X_train, Y_train, test_size = 0.2)"
   ]
  },
  {
   "cell_type": "code",
   "execution_count": 9,
   "metadata": {},
   "outputs": [],
   "source": [
    "from keras.models import Sequential\n",
    "from keras.layers import Dense, Dropout, Flatten, Conv2D, MaxPool2D\n",
    "from keras.optimizers import RMSprop,Adam\n",
    "from keras.preprocessing.image import ImageDataGenerator\n",
    "\n",
    "model = Sequential()\n",
    "\n",
    "model.add(Conv2D(8,activation ='relu',kernel_size = (5,5), input_shape = (28,28,1),padding=\"same\"))\n",
    "model.add(MaxPool2D(2,2))\n",
    "model.add(Dropout(0.25))\n",
    "\n",
    "model.add(Conv2D(16,kernel_size = (4,4),activation ='relu',padding=\"same\"))\n",
    "model.add(MaxPool2D(pool_size=(2,2),strides=(2,2)))\n",
    "model.add(Dropout(0.20))\n",
    "\n",
    "model.add(Flatten())\n",
    "model.add(Dense(256, activation = \"relu\"))\n",
    "model.add(Dropout(0.5))\n",
    "model.add(Dense(10, activation = \"softmax\"))"
   ]
  },
  {
   "cell_type": "code",
   "execution_count": 10,
   "metadata": {},
   "outputs": [],
   "source": [
    "model.compile(optimizer = Adam(lr=0.001,beta_1=0.9,beta_2=0.999) , loss = \"categorical_crossentropy\", metrics=[\"accuracy\"])"
   ]
  },
  {
   "cell_type": "markdown",
   "metadata": {},
   "source": [
    "# IMAGE DATA GENERATOR"
   ]
  },
  {
   "cell_type": "code",
   "execution_count": 11,
   "metadata": {},
   "outputs": [],
   "source": [
    "datagen = ImageDataGenerator(        \n",
    "        featurewise_center=False,  \n",
    "        samplewise_center=False, \n",
    "        featurewise_std_normalization=False,  \n",
    "        samplewise_std_normalization=False,  \n",
    "        zca_whitening=False, \n",
    "        rotation_range=5,  \n",
    "        zoom_range = 0.1, \n",
    "        width_shift_range=0.1,  \n",
    "        height_shift_range=0.1,  \n",
    "        horizontal_flip=False,  \n",
    "        vertical_flip=False)  \n",
    "\n",
    "datagen.fit(X_train)\n",
    "\n",
    "train_set=datagen.flow(X_train,Y_train)"
   ]
  },
  {
   "cell_type": "code",
   "execution_count": 12,
   "metadata": {},
   "outputs": [
    {
     "name": "stderr",
     "output_type": "stream",
     "text": [
      "C:\\Users\\91990\\Anaconda3\\lib\\site-packages\\tensorflow\\python\\keras\\engine\\training.py:1844: UserWarning: `Model.fit_generator` is deprecated and will be removed in a future version. Please use `Model.fit`, which supports generators.\n",
      "  warnings.warn('`Model.fit_generator` is deprecated and '\n"
     ]
    },
    {
     "name": "stdout",
     "output_type": "stream",
     "text": [
      "Epoch 1/70\n",
      "134/134 [==============================] - 6s 40ms/step - loss: 1.8871 - accuracy: 0.3392 - val_loss: 0.4304 - val_accuracy: 0.8914\n",
      "Epoch 2/70\n",
      "134/134 [==============================] - 4s 33ms/step - loss: 0.8145 - accuracy: 0.7365 - val_loss: 0.2118 - val_accuracy: 0.9467\n",
      "Epoch 3/70\n",
      "134/134 [==============================] - 5s 35ms/step - loss: 0.5404 - accuracy: 0.8263 - val_loss: 0.1507 - val_accuracy: 0.9580\n",
      "Epoch 4/70\n",
      "134/134 [==============================] - 5s 35ms/step - loss: 0.4334 - accuracy: 0.8654 - val_loss: 0.1383 - val_accuracy: 0.9590\n",
      "Epoch 5/70\n",
      "134/134 [==============================] - 5s 38ms/step - loss: 0.4142 - accuracy: 0.8663 - val_loss: 0.1219 - val_accuracy: 0.9658\n",
      "Epoch 6/70\n",
      "134/134 [==============================] - 5s 37ms/step - loss: 0.3255 - accuracy: 0.8936 - val_loss: 0.1122 - val_accuracy: 0.9677\n",
      "Epoch 7/70\n",
      "134/134 [==============================] - 5s 40ms/step - loss: 0.3076 - accuracy: 0.9045 - val_loss: 0.1061 - val_accuracy: 0.9680\n",
      "Epoch 8/70\n",
      "134/134 [==============================] - 6s 46ms/step - loss: 0.2913 - accuracy: 0.9061 - val_loss: 0.0930 - val_accuracy: 0.9740\n",
      "Epoch 9/70\n",
      "134/134 [==============================] - 6s 43ms/step - loss: 0.2824 - accuracy: 0.9139 - val_loss: 0.0933 - val_accuracy: 0.9730\n",
      "Epoch 10/70\n",
      "134/134 [==============================] - 6s 41ms/step - loss: 0.2776 - accuracy: 0.9090 - val_loss: 0.0978 - val_accuracy: 0.9713\n",
      "Epoch 11/70\n",
      "134/134 [==============================] - 5s 41ms/step - loss: 0.2525 - accuracy: 0.9207 - val_loss: 0.0868 - val_accuracy: 0.9727\n",
      "Epoch 12/70\n",
      "134/134 [==============================] - 6s 41ms/step - loss: 0.2468 - accuracy: 0.9256 - val_loss: 0.0754 - val_accuracy: 0.9773\n",
      "Epoch 13/70\n",
      "134/134 [==============================] - 5s 41ms/step - loss: 0.2213 - accuracy: 0.9259 - val_loss: 0.0797 - val_accuracy: 0.9752\n",
      "Epoch 14/70\n",
      "134/134 [==============================] - 5s 40ms/step - loss: 0.2051 - accuracy: 0.9370 - val_loss: 0.0782 - val_accuracy: 0.9770\n",
      "Epoch 15/70\n",
      "134/134 [==============================] - 5s 39ms/step - loss: 0.2040 - accuracy: 0.9431 - val_loss: 0.0712 - val_accuracy: 0.9773\n",
      "Epoch 16/70\n",
      "134/134 [==============================] - 5s 39ms/step - loss: 0.1827 - accuracy: 0.9438 - val_loss: 0.0799 - val_accuracy: 0.9738\n",
      "Epoch 17/70\n",
      "134/134 [==============================] - 5s 39ms/step - loss: 0.2089 - accuracy: 0.9370 - val_loss: 0.0658 - val_accuracy: 0.9801\n",
      "Epoch 18/70\n",
      "134/134 [==============================] - 5s 38ms/step - loss: 0.2093 - accuracy: 0.9360 - val_loss: 0.0641 - val_accuracy: 0.9806\n",
      "Epoch 19/70\n",
      "134/134 [==============================] - 6s 43ms/step - loss: 0.1925 - accuracy: 0.9432 - val_loss: 0.0573 - val_accuracy: 0.9818\n",
      "Epoch 20/70\n",
      "134/134 [==============================] - 5s 40ms/step - loss: 0.1739 - accuracy: 0.9427 - val_loss: 0.0565 - val_accuracy: 0.9808\n",
      "Epoch 21/70\n",
      "134/134 [==============================] - 5s 39ms/step - loss: 0.2032 - accuracy: 0.9397 - val_loss: 0.0593 - val_accuracy: 0.9817\n",
      "Epoch 22/70\n",
      "134/134 [==============================] - 5s 39ms/step - loss: 0.1761 - accuracy: 0.9463 - val_loss: 0.0569 - val_accuracy: 0.9823\n",
      "Epoch 23/70\n",
      "134/134 [==============================] - 5s 40ms/step - loss: 0.1873 - accuracy: 0.9427 - val_loss: 0.0598 - val_accuracy: 0.9819\n",
      "Epoch 24/70\n",
      "134/134 [==============================] - 5s 38ms/step - loss: 0.1525 - accuracy: 0.9512 - val_loss: 0.0629 - val_accuracy: 0.9804\n",
      "Epoch 25/70\n",
      "134/134 [==============================] - 5s 39ms/step - loss: 0.1682 - accuracy: 0.9508 - val_loss: 0.0635 - val_accuracy: 0.9800\n",
      "Epoch 26/70\n",
      "134/134 [==============================] - 5s 39ms/step - loss: 0.1671 - accuracy: 0.9491 - val_loss: 0.0525 - val_accuracy: 0.9835\n",
      "Epoch 27/70\n",
      "134/134 [==============================] - 5s 38ms/step - loss: 0.1750 - accuracy: 0.9487 - val_loss: 0.0668 - val_accuracy: 0.9793\n",
      "Epoch 28/70\n",
      "134/134 [==============================] - 5s 39ms/step - loss: 0.1809 - accuracy: 0.9438 - val_loss: 0.0507 - val_accuracy: 0.9843\n",
      "Epoch 29/70\n",
      "134/134 [==============================] - 5s 39ms/step - loss: 0.1528 - accuracy: 0.9556 - val_loss: 0.0526 - val_accuracy: 0.9848\n",
      "Epoch 30/70\n",
      "134/134 [==============================] - 5s 39ms/step - loss: 0.1602 - accuracy: 0.9528 - val_loss: 0.0489 - val_accuracy: 0.9836\n",
      "Epoch 31/70\n",
      "134/134 [==============================] - 5s 40ms/step - loss: 0.1755 - accuracy: 0.9433 - val_loss: 0.0509 - val_accuracy: 0.9849\n",
      "Epoch 32/70\n",
      "134/134 [==============================] - 5s 40ms/step - loss: 0.1340 - accuracy: 0.9580 - val_loss: 0.0511 - val_accuracy: 0.9844\n",
      "Epoch 33/70\n",
      "134/134 [==============================] - 5s 39ms/step - loss: 0.1597 - accuracy: 0.9526 - val_loss: 0.0477 - val_accuracy: 0.9856\n",
      "Epoch 34/70\n",
      "134/134 [==============================] - 5s 40ms/step - loss: 0.1372 - accuracy: 0.9523 - val_loss: 0.0507 - val_accuracy: 0.9843\n",
      "Epoch 35/70\n",
      "134/134 [==============================] - 5s 39ms/step - loss: 0.1656 - accuracy: 0.9492 - val_loss: 0.0459 - val_accuracy: 0.9858\n",
      "Epoch 36/70\n",
      "134/134 [==============================] - 5s 39ms/step - loss: 0.1258 - accuracy: 0.9628 - val_loss: 0.0468 - val_accuracy: 0.9850\n",
      "Epoch 37/70\n",
      "134/134 [==============================] - 5s 38ms/step - loss: 0.1466 - accuracy: 0.9562 - val_loss: 0.0464 - val_accuracy: 0.9851\n",
      "Epoch 38/70\n",
      "134/134 [==============================] - 5s 39ms/step - loss: 0.1273 - accuracy: 0.9597 - val_loss: 0.0446 - val_accuracy: 0.9851\n",
      "Epoch 39/70\n",
      "134/134 [==============================] - 5s 39ms/step - loss: 0.1448 - accuracy: 0.9581 - val_loss: 0.0446 - val_accuracy: 0.9862\n",
      "Epoch 40/70\n",
      "134/134 [==============================] - 5s 39ms/step - loss: 0.1304 - accuracy: 0.9581 - val_loss: 0.0431 - val_accuracy: 0.9860\n",
      "Epoch 41/70\n",
      "134/134 [==============================] - 5s 39ms/step - loss: 0.1152 - accuracy: 0.9614 - val_loss: 0.0445 - val_accuracy: 0.9854\n",
      "Epoch 42/70\n",
      "134/134 [==============================] - 5s 40ms/step - loss: 0.1313 - accuracy: 0.9570 - val_loss: 0.0425 - val_accuracy: 0.9867\n",
      "Epoch 43/70\n",
      "134/134 [==============================] - 5s 40ms/step - loss: 0.1475 - accuracy: 0.9536 - val_loss: 0.0400 - val_accuracy: 0.9871\n",
      "Epoch 44/70\n",
      "134/134 [==============================] - 5s 39ms/step - loss: 0.1186 - accuracy: 0.9636 - val_loss: 0.0422 - val_accuracy: 0.9863\n",
      "Epoch 45/70\n",
      "134/134 [==============================] - 5s 39ms/step - loss: 0.1314 - accuracy: 0.9632 - val_loss: 0.0431 - val_accuracy: 0.9869\n",
      "Epoch 46/70\n",
      "134/134 [==============================] - 5s 39ms/step - loss: 0.1141 - accuracy: 0.9624 - val_loss: 0.0452 - val_accuracy: 0.9862\n",
      "Epoch 47/70\n",
      "134/134 [==============================] - 5s 39ms/step - loss: 0.1145 - accuracy: 0.9643 - val_loss: 0.0422 - val_accuracy: 0.9864\n",
      "Epoch 48/70\n",
      "134/134 [==============================] - 5s 39ms/step - loss: 0.1164 - accuracy: 0.9645 - val_loss: 0.0426 - val_accuracy: 0.9879\n",
      "Epoch 49/70\n",
      "134/134 [==============================] - 5s 40ms/step - loss: 0.1199 - accuracy: 0.9637 - val_loss: 0.0429 - val_accuracy: 0.9867\n",
      "Epoch 50/70\n",
      "134/134 [==============================] - 5s 40ms/step - loss: 0.1208 - accuracy: 0.9607 - val_loss: 0.0461 - val_accuracy: 0.9856\n",
      "Epoch 51/70\n",
      "134/134 [==============================] - 5s 39ms/step - loss: 0.1320 - accuracy: 0.9553 - val_loss: 0.0449 - val_accuracy: 0.9851\n",
      "Epoch 52/70\n",
      "134/134 [==============================] - 5s 40ms/step - loss: 0.1333 - accuracy: 0.9570 - val_loss: 0.0421 - val_accuracy: 0.9864\n",
      "Epoch 53/70\n",
      "134/134 [==============================] - 5s 39ms/step - loss: 0.1357 - accuracy: 0.9583 - val_loss: 0.0441 - val_accuracy: 0.9855\n",
      "Epoch 54/70\n",
      "134/134 [==============================] - 6s 43ms/step - loss: 0.0991 - accuracy: 0.9646 - val_loss: 0.0403 - val_accuracy: 0.9873\n",
      "Epoch 55/70\n",
      "134/134 [==============================] - 5s 40ms/step - loss: 0.1214 - accuracy: 0.9608 - val_loss: 0.0386 - val_accuracy: 0.9882\n",
      "Epoch 56/70\n",
      "134/134 [==============================] - 5s 39ms/step - loss: 0.1086 - accuracy: 0.9648 - val_loss: 0.0418 - val_accuracy: 0.9870\n",
      "Epoch 57/70\n",
      "134/134 [==============================] - 5s 39ms/step - loss: 0.1076 - accuracy: 0.9688 - val_loss: 0.0415 - val_accuracy: 0.9861\n",
      "Epoch 58/70\n",
      "134/134 [==============================] - 5s 37ms/step - loss: 0.1052 - accuracy: 0.9665 - val_loss: 0.0404 - val_accuracy: 0.9860\n",
      "Epoch 59/70\n",
      "134/134 [==============================] - 5s 37ms/step - loss: 0.1116 - accuracy: 0.9667 - val_loss: 0.0421 - val_accuracy: 0.9861\n",
      "Epoch 60/70\n",
      "134/134 [==============================] - 5s 37ms/step - loss: 0.1160 - accuracy: 0.9681 - val_loss: 0.0434 - val_accuracy: 0.9861\n",
      "Epoch 61/70\n",
      "134/134 [==============================] - 5s 40ms/step - loss: 0.0961 - accuracy: 0.9680 - val_loss: 0.0380 - val_accuracy: 0.9882\n",
      "Epoch 62/70\n",
      "134/134 [==============================] - 5s 38ms/step - loss: 0.1225 - accuracy: 0.9636 - val_loss: 0.0397 - val_accuracy: 0.9879\n",
      "Epoch 63/70\n",
      "134/134 [==============================] - 5s 38ms/step - loss: 0.1292 - accuracy: 0.9603 - val_loss: 0.0372 - val_accuracy: 0.9879\n",
      "Epoch 64/70\n",
      "134/134 [==============================] - 5s 38ms/step - loss: 0.1149 - accuracy: 0.9656 - val_loss: 0.0355 - val_accuracy: 0.9894\n",
      "Epoch 65/70\n",
      "134/134 [==============================] - 5s 39ms/step - loss: 0.1272 - accuracy: 0.9613 - val_loss: 0.0416 - val_accuracy: 0.9869\n",
      "Epoch 66/70\n",
      "134/134 [==============================] - 5s 38ms/step - loss: 0.1070 - accuracy: 0.9679 - val_loss: 0.0429 - val_accuracy: 0.9860\n",
      "Epoch 67/70\n",
      "134/134 [==============================] - 5s 38ms/step - loss: 0.0990 - accuracy: 0.9692 - val_loss: 0.0361 - val_accuracy: 0.9881\n",
      "Epoch 68/70\n",
      "134/134 [==============================] - 5s 38ms/step - loss: 0.1298 - accuracy: 0.9614 - val_loss: 0.0366 - val_accuracy: 0.9894\n",
      "Epoch 69/70\n",
      "134/134 [==============================] - 5s 38ms/step - loss: 0.1228 - accuracy: 0.9591 - val_loss: 0.0359 - val_accuracy: 0.9894\n",
      "Epoch 70/70\n",
      "134/134 [==============================] - 5s 38ms/step - loss: 0.1016 - accuracy: 0.9727 - val_loss: 0.0424 - val_accuracy: 0.9864\n"
     ]
    }
   ],
   "source": [
    "history = model.fit_generator(train_set,\n",
    "                              epochs = 70,\n",
    "                              validation_data = (X_test,Y_test), \n",
    "                              steps_per_epoch=X_train.shape[0] // 250\n",
    "                              )"
   ]
  },
  {
   "cell_type": "code",
   "execution_count": 13,
   "metadata": {},
   "outputs": [
    {
     "data": {
      "image/png": "[encoded data removed]",
      "text/plain": [
       "<Figure size 432x288 with 1 Axes>"
      ]
     },
     "metadata": {
      "needs_background": "light"
     },
     "output_type": "display_data"
    }
   ],
   "source": [
    "import matplotlib.pyplot as plt\n",
    "\n",
    "acc=history.history[\"accuracy\"]\n",
    "val_acc=history.history[\"val_accuracy\"]\n",
    "epochs=range(len(acc))\n",
    "\n",
    "plt.plot(epochs,acc,label=\"accuracy\")\n",
    "plt.plot(epochs,val_acc,label=\"val_accuracy\")\n",
    "plt.title(\"ACCURACY\")\n",
    "plt.legend();"
   ]
  },
  {
   "cell_type": "code",
   "execution_count": 14,
   "metadata": {},
   "outputs": [
    {
     "data": {
      "image/png": "[encoded data removed]",
      "text/plain": [
       "<Figure size 432x288 with 1 Axes>"
      ]
     },
     "metadata": {
      "needs_background": "light"
     },
     "output_type": "display_data"
    }
   ],
   "source": [
    "loss=history.history[\"loss\"]\n",
    "val_loss=history.history[\"val_loss\"]\n",
    "epochs=range(len(acc))\n",
    "\n",
    "plt.plot(epochs,loss,label=\"loss\")\n",
    "plt.plot(epochs,val_loss,label=\"val_loss\")\n",
    "plt.title(\"LOSS\")\n",
    "plt.legend();"
   ]
  },
  {
   "cell_type": "code",
   "execution_count": 20,
   "metadata": {},
   "outputs": [
    {
     "data": {
      "text/html": [
       "<div>\n",
       "<style scoped>\n",
       "    .dataframe tbody tr th:only-of-type {\n",
       "        vertical-align: middle;\n",
       "    }\n",
       "\n",
       "    .dataframe tbody tr th {\n",
       "        vertical-align: top;\n",
       "    }\n",
       "\n",
       "    .dataframe thead th {\n",
       "        text-align: right;\n",
       "    }\n",
       "</style>\n",
       "<table border=\"1\" class=\"dataframe\">\n",
       "  <thead>\n",
       "    <tr style=\"text-align: right;\">\n",
       "      <th></th>\n",
       "      <th>pixel0</th>\n",
       "      <th>pixel1</th>\n",
       "      <th>pixel2</th>\n",
       "      <th>pixel3</th>\n",
       "      <th>pixel4</th>\n",
       "      <th>pixel5</th>\n",
       "      <th>pixel6</th>\n",
       "      <th>pixel7</th>\n",
       "      <th>pixel8</th>\n",
       "      <th>pixel9</th>\n",
       "      <th>...</th>\n",
       "      <th>pixel774</th>\n",
       "      <th>pixel775</th>\n",
       "      <th>pixel776</th>\n",
       "      <th>pixel777</th>\n",
       "      <th>pixel778</th>\n",
       "      <th>pixel779</th>\n",
       "      <th>pixel780</th>\n",
       "      <th>pixel781</th>\n",
       "      <th>pixel782</th>\n",
       "      <th>pixel783</th>\n",
       "    </tr>\n",
       "  </thead>\n",
       "  <tbody>\n",
       "    <tr>\n",
       "      <th>0</th>\n",
       "      <td>0</td>\n",
       "      <td>0</td>\n",
       "      <td>0</td>\n",
       "      <td>0</td>\n",
       "      <td>0</td>\n",
       "      <td>0</td>\n",
       "      <td>0</td>\n",
       "      <td>0</td>\n",
       "      <td>0</td>\n",
       "      <td>0</td>\n",
       "      <td>...</td>\n",
       "      <td>0</td>\n",
       "      <td>0</td>\n",
       "      <td>0</td>\n",
       "      <td>0</td>\n",
       "      <td>0</td>\n",
       "      <td>0</td>\n",
       "      <td>0</td>\n",
       "      <td>0</td>\n",
       "      <td>0</td>\n",
       "      <td>0</td>\n",
       "    </tr>\n",
       "    <tr>\n",
       "      <th>1</th>\n",
       "      <td>0</td>\n",
       "      <td>0</td>\n",
       "      <td>0</td>\n",
       "      <td>0</td>\n",
       "      <td>0</td>\n",
       "      <td>0</td>\n",
       "      <td>0</td>\n",
       "      <td>0</td>\n",
       "      <td>0</td>\n",
       "      <td>0</td>\n",
       "      <td>...</td>\n",
       "      <td>0</td>\n",
       "      <td>0</td>\n",
       "      <td>0</td>\n",
       "      <td>0</td>\n",
       "      <td>0</td>\n",
       "      <td>0</td>\n",
       "      <td>0</td>\n",
       "      <td>0</td>\n",
       "      <td>0</td>\n",
       "      <td>0</td>\n",
       "    </tr>\n",
       "    <tr>\n",
       "      <th>2</th>\n",
       "      <td>0</td>\n",
       "      <td>0</td>\n",
       "      <td>0</td>\n",
       "      <td>0</td>\n",
       "      <td>0</td>\n",
       "      <td>0</td>\n",
       "      <td>0</td>\n",
       "      <td>0</td>\n",
       "      <td>0</td>\n",
       "      <td>0</td>\n",
       "      <td>...</td>\n",
       "      <td>0</td>\n",
       "      <td>0</td>\n",
       "      <td>0</td>\n",
       "      <td>0</td>\n",
       "      <td>0</td>\n",
       "      <td>0</td>\n",
       "      <td>0</td>\n",
       "      <td>0</td>\n",
       "      <td>0</td>\n",
       "      <td>0</td>\n",
       "    </tr>\n",
       "    <tr>\n",
       "      <th>3</th>\n",
       "      <td>0</td>\n",
       "      <td>0</td>\n",
       "      <td>0</td>\n",
       "      <td>0</td>\n",
       "      <td>0</td>\n",
       "      <td>0</td>\n",
       "      <td>0</td>\n",
       "      <td>0</td>\n",
       "      <td>0</td>\n",
       "      <td>0</td>\n",
       "      <td>...</td>\n",
       "      <td>0</td>\n",
       "      <td>0</td>\n",
       "      <td>0</td>\n",
       "      <td>0</td>\n",
       "      <td>0</td>\n",
       "      <td>0</td>\n",
       "      <td>0</td>\n",
       "      <td>0</td>\n",
       "      <td>0</td>\n",
       "      <td>0</td>\n",
       "    </tr>\n",
       "    <tr>\n",
       "      <th>4</th>\n",
       "      <td>0</td>\n",
       "      <td>0</td>\n",
       "      <td>0</td>\n",
       "      <td>0</td>\n",
       "      <td>0</td>\n",
       "      <td>0</td>\n",
       "      <td>0</td>\n",
       "      <td>0</td>\n",
       "      <td>0</td>\n",
       "      <td>0</td>\n",
       "      <td>...</td>\n",
       "      <td>0</td>\n",
       "      <td>0</td>\n",
       "      <td>0</td>\n",
       "      <td>0</td>\n",
       "      <td>0</td>\n",
       "      <td>0</td>\n",
       "      <td>0</td>\n",
       "      <td>0</td>\n",
       "      <td>0</td>\n",
       "      <td>0</td>\n",
       "    </tr>\n",
       "  </tbody>\n",
       "</table>\n",
       "<p>5 rows × 784 columns</p>\n",
       "</div>"
      ],
      "text/plain": [
       "   pixel0  pixel1  pixel2  pixel3  pixel4  pixel5  pixel6  pixel7  pixel8  \\\n",
       "0       0       0       0       0       0       0       0       0       0   \n",
       "1       0       0       0       0       0       0       0       0       0   \n",
       "2       0       0       0       0       0       0       0       0       0   \n",
       "3       0       0       0       0       0       0       0       0       0   \n",
       "4       0       0       0       0       0       0       0       0       0   \n",
       "\n",
       "   pixel9  ...  pixel774  pixel775  pixel776  pixel777  pixel778  pixel779  \\\n",
       "0       0  ...         0         0         0         0         0         0   \n",
       "1       0  ...         0         0         0         0         0         0   \n",
       "2       0  ...         0         0         0         0         0         0   \n",
       "3       0  ...         0         0         0         0         0         0   \n",
       "4       0  ...         0         0         0         0         0         0   \n",
       "\n",
       "   pixel780  pixel781  pixel782  pixel783  \n",
       "0         0         0         0         0  \n",
       "1         0         0         0         0  \n",
       "2         0         0         0         0  \n",
       "3         0         0         0         0  \n",
       "4         0         0         0         0  \n",
       "\n",
       "[5 rows x 784 columns]"
      ]
     },
     "execution_count": 20,
     "metadata": {},
     "output_type": "execute_result"
    }
   ],
   "source": [
    "df_test1=pd.read_csv(\"test.csv\")\n",
    "df_test1.head()"
   ]
  },
  {
   "cell_type": "code",
   "execution_count": 22,
   "metadata": {},
   "outputs": [
    {
     "data": {
      "text/plain": [
       "pixel0      0\n",
       "pixel1      0\n",
       "pixel2      0\n",
       "pixel3      0\n",
       "pixel4      0\n",
       "           ..\n",
       "pixel779    0\n",
       "pixel780    0\n",
       "pixel781    0\n",
       "pixel782    0\n",
       "pixel783    0\n",
       "Length: 784, dtype: int64"
      ]
     },
     "execution_count": 22,
     "metadata": {},
     "output_type": "execute_result"
    }
   ],
   "source": [
    "df_test1.isna().sum()"
   ]
  },
  {
   "cell_type": "code",
   "execution_count": 23,
   "metadata": {},
   "outputs": [],
   "source": [
    "df_test1 = df_test1 / 255.0"
   ]
  },
  {
   "cell_type": "code",
   "execution_count": 28,
   "metadata": {},
   "outputs": [],
   "source": [
    "df_test1 = df_test1.values.reshape(-1,28,28,1)"
   ]
  },
  {
   "cell_type": "code",
   "execution_count": 30,
   "metadata": {},
   "outputs": [],
   "source": [
    "y_lol=model.predict(df_test1)"
   ]
  },
  {
   "cell_type": "code",
   "execution_count": 36,
   "metadata": {},
   "outputs": [],
   "source": [
    "ans={}\n",
    "a=0\n",
    "for i in y_lol:\n",
    "    ans[a]=np.argmax(i)\n",
    "    a=a+1"
   ]
  },
  {
   "cell_type": "code",
   "execution_count": 47,
   "metadata": {},
   "outputs": [],
   "source": [
    "df2 = pd.DataFrame(list(ans.items()),columns = ['ImageID','Label']) "
   ]
  },
  {
   "cell_type": "code",
   "execution_count": 57,
   "metadata": {},
   "outputs": [],
   "source": [
    "df2[\"ImageID\"]=df2[\"ImageID\"]+1"
   ]
  },
  {
   "cell_type": "code",
   "execution_count": 59,
   "metadata": {},
   "outputs": [],
   "source": [
    "df2.to_csv(\"Submit3.csv\",index=False)"
   ]
  },
  {
   "cell_type": "code",
   "execution_count": 65,
   "metadata": {},
   "outputs": [],
   "source": [
    "model.save(\"digit_model.h5\")"
   ]
  },
  {
   "cell_type": "code",
   "execution_count": null,
   "metadata": {},
   "outputs": [],
   "source": []
  }
 ],
 "metadata": {
  "kernelspec": {
   "display_name": "Python 3",
   "language": "python",
   "name": "python3"
  },
  "language_info": {
   "codemirror_mode": {
    "name": "ipython",
    "version": 3
   },
   "file_extension": ".py",
   "mimetype": "text/x-python",
   "name": "python",
   "nbconvert_exporter": "python",
   "pygments_lexer": "ipython3",
   "version": "3.8.3"
  }
 },
 "nbformat": 4,
 "nbformat_minor": 4
}
